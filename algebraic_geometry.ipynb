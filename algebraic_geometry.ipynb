{
 "cells": [
  {
   "cell_type": "code",
   "execution_count": 3,
   "metadata": {
    "collapsed": false
   },
   "outputs": [
    {
     "name": "stdout",
     "output_type": "stream",
     "text": [
      "Help on function Curve in module sage.schemes.plane_curves.constructor:\n",
      "\n",
      "Curve(F)\n",
      "    Return the plane or space curve defined by `F`, where\n",
      "    `F` can be either a multivariate polynomial, a list or\n",
      "    tuple of polynomials, or an algebraic scheme.\n",
      "    \n",
      "    If `F` is in two variables the curve is affine, and if it\n",
      "    is homogenous in `3` variables, then the curve is\n",
      "    projective.\n",
      "    \n",
      "    EXAMPLE: A projective plane curve\n",
      "    \n",
      "    ::\n",
      "    \n",
      "        sage: x,y,z = QQ['x,y,z'].gens()\n",
      "        sage: C = Curve(x^3 + y^3 + z^3); C\n",
      "        Projective Curve over Rational Field defined by x^3 + y^3 + z^3\n",
      "        sage: C.genus()\n",
      "        1\n",
      "    \n",
      "    EXAMPLE: Affine plane curves\n",
      "    \n",
      "    ::\n",
      "    \n",
      "        sage: x,y = GF(7)['x,y'].gens()\n",
      "        sage: C = Curve(y^2 + x^3 + x^10); C\n",
      "        Affine Curve over Finite Field of size 7 defined by x^10 + x^3 + y^2\n",
      "        sage: C.genus()\n",
      "        0\n",
      "        sage: x, y = QQ['x,y'].gens()\n",
      "        sage: Curve(x^3 + y^3 + 1)\n",
      "        Affine Curve over Rational Field defined by x^3 + y^3 + 1\n",
      "    \n",
      "    EXAMPLE: A projective space curve\n",
      "    \n",
      "    ::\n",
      "    \n",
      "        sage: x,y,z,w = QQ['x,y,z,w'].gens()\n",
      "        sage: C = Curve([x^3 + y^3 - z^3 - w^3, x^5 - y*z^4]); C\n",
      "        Projective Space Curve over Rational Field defined by x^3 + y^3 - z^3 - w^3, x^5 - y*z^4\n",
      "        sage: C.genus()\n",
      "        13\n",
      "    \n",
      "    EXAMPLE: An affine space curve\n",
      "    \n",
      "    ::\n",
      "    \n",
      "        sage: x,y,z = QQ['x,y,z'].gens()\n",
      "        sage: C = Curve([y^2 + x^3 + x^10 + z^7,  x^2 + y^2]); C\n",
      "        Affine Space Curve over Rational Field defined by x^10 + z^7 + x^3 + y^2, x^2 + y^2\n",
      "        sage: C.genus()\n",
      "        47\n",
      "    \n",
      "    EXAMPLE: We can also make non-reduced non-irreducible curves.\n",
      "    \n",
      "    ::\n",
      "    \n",
      "        sage: x,y,z = QQ['x,y,z'].gens()\n",
      "        sage: Curve((x-y)*(x+y))\n",
      "        Projective Conic Curve over Rational Field defined by x^2 - y^2\n",
      "        sage: Curve((x-y)^2*(x+y)^2)\n",
      "        Projective Curve over Rational Field defined by x^4 - 2*x^2*y^2 + y^4\n",
      "    \n",
      "    EXAMPLE: A union of curves is a curve.\n",
      "    \n",
      "    ::\n",
      "    \n",
      "        sage: x,y,z = QQ['x,y,z'].gens()\n",
      "        sage: C = Curve(x^3 + y^3 + z^3)\n",
      "        sage: D = Curve(x^4 + y^4 + z^4)\n",
      "        sage: C.union(D)\n",
      "        Projective Curve over Rational Field defined by\n",
      "        x^7 + x^4*y^3 + x^3*y^4 + y^7 + x^4*z^3 + y^4*z^3 + x^3*z^4 + y^3*z^4 + z^7\n",
      "    \n",
      "    The intersection is not a curve, though it is a scheme.\n",
      "    \n",
      "    ::\n",
      "    \n",
      "        sage: X = C.intersection(D); X\n",
      "        Closed subscheme of Projective Space of dimension 2 over Rational Field defined by:\n",
      "         x^3 + y^3 + z^3,\n",
      "         x^4 + y^4 + z^4\n",
      "    \n",
      "    Note that the intersection has dimension `0`.\n",
      "    \n",
      "    ::\n",
      "    \n",
      "        sage: X.dimension()\n",
      "        0\n",
      "        sage: I = X.defining_ideal(); I\n",
      "        Ideal (x^3 + y^3 + z^3, x^4 + y^4 + z^4) of Multivariate Polynomial Ring in x, y, z over Rational Field\n",
      "    \n",
      "    EXAMPLE: In three variables, the defining equation must be\n",
      "    homogeneous.\n",
      "    \n",
      "    If the parent polynomial ring is in three variables, then the\n",
      "    defining ideal must be homogeneous.\n",
      "    \n",
      "    ::\n",
      "    \n",
      "        sage: x,y,z = QQ['x,y,z'].gens()\n",
      "        sage: Curve(x^2+y^2)\n",
      "        Projective Conic Curve over Rational Field defined by x^2 + y^2\n",
      "        sage: Curve(x^2+y^2+z)\n",
      "        Traceback (most recent call last):\n",
      "        ...\n",
      "        TypeError: x^2 + y^2 + z is not a homogeneous polynomial!\n",
      "    \n",
      "    The defining polynomial must always be nonzero::\n",
      "    \n",
      "        sage: P1.<x,y> = ProjectiveSpace(1,GF(5))\n",
      "        sage: Curve(0*x)\n",
      "        Traceback (most recent call last):\n",
      "        ...\n",
      "        ValueError: defining polynomial of curve must be nonzero\n",
      "\n"
     ]
    }
   ],
   "source": [
    "help(Curve)"
   ]
  },
  {
   "cell_type": "code",
   "execution_count": 6,
   "metadata": {
    "collapsed": false
   },
   "outputs": [],
   "source": [
    "x,y,z = QQ['x,y,z'].gens()\n",
    "C = Curve(x*z^2-x^2*y)"
   ]
  },
  {
   "cell_type": "code",
   "execution_count": null,
   "metadata": {
    "collapsed": true
   },
   "outputs": [],
   "source": []
  }
 ],
 "metadata": {
  "kernelspec": {
   "display_name": "Sage 6.9",
   "language": "",
   "name": "sage_6_9"
  },
  "language_info": {
   "codemirror_mode": {
    "name": "ipython",
    "version": 2
   },
   "file_extension": ".py",
   "mimetype": "text/x-python",
   "name": "python",
   "nbconvert_exporter": "python",
   "pygments_lexer": "ipython2",
   "version": "2.7.10"
  },
  "latex_envs": {
   "bibliofile": "biblio.bib",
   "cite_by": "apalike",
   "current_citInitial": 1,
   "eqLabelWithNumbers": true,
   "eqNumInitial": 0
  }
 },
 "nbformat": 4,
 "nbformat_minor": 0
}
